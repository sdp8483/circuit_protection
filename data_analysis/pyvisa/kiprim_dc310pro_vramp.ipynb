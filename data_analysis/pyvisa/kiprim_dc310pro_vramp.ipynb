{
 "cells": [
  {
   "cell_type": "code",
   "execution_count": 1,
   "metadata": {},
   "outputs": [],
   "source": [
    "import pyvisa\n",
    "import time\n",
    "\n",
    "import numpy as np"
   ]
  },
  {
   "cell_type": "markdown",
   "metadata": {},
   "source": [
    "# Find Instrument and Connect"
   ]
  },
  {
   "cell_type": "code",
   "execution_count": 2,
   "metadata": {},
   "outputs": [
    {
     "name": "stdout",
     "output_type": "stream",
     "text": [
      "KIPRIM,DC310Pro,23460653,FV:V2.0.0\n",
      "\n"
     ]
    }
   ],
   "source": [
    "rm = pyvisa.ResourceManager()\n",
    "# inst_list = rm.list_resources()\n",
    "inst = rm.open_resource('ASRL/dev/ttyUSB0::INSTR', baud_rate=115200)\n",
    "inst.timeout = 5000\n",
    "inst.write(\"*RST; *CLS\")    # reset to power on state, clear status\n",
    "print(inst.query(\"*IDN?\"))  # get instrument id"
   ]
  },
  {
   "cell_type": "markdown",
   "metadata": {},
   "source": [
    "# Set Maximum Limits"
   ]
  },
  {
   "cell_type": "code",
   "execution_count": 3,
   "metadata": {},
   "outputs": [
    {
     "data": {
      "text/plain": [
       "53"
      ]
     },
     "execution_count": 3,
     "metadata": {},
     "output_type": "execute_result"
    }
   ],
   "source": [
    "inst.write(\"output:state off\")\n",
    "\n",
    "# set maximum limits\n",
    "inst.write(\"source:current:limit:level:immediate:amplitude 1.0\")\n",
    "inst.write(\"source:voltage:limit:level:immediate:amplitude 32.0\")\n"
   ]
  },
  {
   "cell_type": "markdown",
   "metadata": {},
   "source": [
    "# Ramp Up Voltage"
   ]
  },
  {
   "cell_type": "code",
   "execution_count": 4,
   "metadata": {},
   "outputs": [],
   "source": [
    "voltage_start     = 0\n",
    "voltage_end       = 30\n",
    "voltage_increment = 0.1\n",
    "sleep_increment   = 0.25\n",
    "\n",
    "inst.write(\"output:state on\")\n",
    "\n",
    "for v in np.arange(voltage_start, voltage_end + voltage_increment, voltage_increment):\n",
    "    inst.write(\"source:voltage:level:immediate:amplitude {}\".format(v))\n",
    "    time.sleep(sleep_increment)"
   ]
  },
  {
   "cell_type": "markdown",
   "metadata": {},
   "source": [
    "# Done"
   ]
  },
  {
   "cell_type": "code",
   "execution_count": 5,
   "metadata": {},
   "outputs": [],
   "source": [
    "inst.write(\"output:state off\")\n",
    "\n",
    "inst.close()"
   ]
  }
 ],
 "metadata": {
  "kernelspec": {
   "display_name": "Python 3",
   "language": "python",
   "name": "python3"
  },
  "language_info": {
   "codemirror_mode": {
    "name": "ipython",
    "version": 3
   },
   "file_extension": ".py",
   "mimetype": "text/x-python",
   "name": "python",
   "nbconvert_exporter": "python",
   "pygments_lexer": "ipython3",
   "version": "3.13.1"
  }
 },
 "nbformat": 4,
 "nbformat_minor": 2
}
